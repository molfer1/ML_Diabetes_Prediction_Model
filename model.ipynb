{
 "cells": [
  {
   "cell_type": "markdown",
   "metadata": {},
   "source": [
    "# Prognozowanie cukrzycy\n",
    "\n",
    "Celem projektu jest zbudowanie modelu uczenia maszynowego, \n",
    "który będzie w stanie przewidzieć ryzyko wystąpienia cukrzycy na podstawie danych demograficznych i medycznych pacjenta.\n",
    "\n",
    "**Zbiór danych**\n",
    "1. gender (object) - Płeć pacjenta.\n",
    "    - Możliwe wartości: np. \"Male\", \"Female\".\n",
    "    - Zmienna Kategoryczna\n",
    "2. age (float64) - Wiek pacjenta wyrażony w latach.\n",
    "3. hypertension (int64) Czy pacjent cierpi na nadciśnienie tętnicze.\n",
    "    - Możliwe wartości: 0 – brak nadciśnienia, 1 – nadciśnienie występuje\n",
    "4. heart_disease (int64) - Czy pacjent cierpi na chorobę serca.\n",
    "    - Możliwe wartości: 0 – brak choroby serca, 1 – choroba serca występuje\n",
    "    smoking_history (object)\n",
    "5. Historia palenia papierosów przez pacjenta.\n",
    "    - Możliwe wartości: np. \"never\", \"former\", \"current\", \"No Info\".\n",
    "    - bmi (float64)\n",
    "6. Wskaźnik masy ciała (Body Mass Index - BMI).\n",
    "7. HbA1c_level (float64) - Średni poziom hemoglobiny glikowanej (HbA1c) we krwi.\n",
    "9. blood_glucose_level (int64) - Poziom glukozy we krwi pacjenta.\n",
    "\n",
    "10. diabetes (int64) - Zmienna docelowa. Czy pacjent cierpi na cukrzycę.\n",
    "    - Możliwe wartości: 0 – brak cukrzycy, 1 – cukrzyca występuje\n"
   ]
  },
  {
   "cell_type": "markdown",
   "metadata": {},
   "source": [
    "1. Import i sprawdzenia danych wejściowych"
   ]
  },
  {
   "cell_type": "code",
   "execution_count": null,
   "metadata": {},
   "outputs": [],
   "source": [
    "import pandas as pd\n",
    "\n",
    "# Wczytanie danych\n",
    "df = pd.read_csv('/mnt/data/diabetes_prediction_dataset.csv')\n",
    "\n",
    "# Wyświetlenie podstawowych informacji o danych\n",
    "df.info()\n",
    "df.head()"
   ]
  },
  {
   "cell_type": "markdown",
   "metadata": {},
   "source": [
    "2. Eksploracyjna Analiza Danych (EDA)\n",
    "    - Analiza rozkładu zmiennej docelowej (\"diabetes\")\n",
    "    - Rozkład zmiennych kategorycznych ('gender', 'smoking_history')\n",
    "    - Analiza statystyczna zmiennych numerycznych ('age', 'bmi', 'HbA1c_level', 'blood_glucose_level').\n",
    "    - Macierz korelacji dla zmiennych numerycznych.\n",
    "    - Wizualizacje wykresów"
   ]
  },
  {
   "cell_type": "code",
   "execution_count": null,
   "metadata": {},
   "outputs": [],
   "source": [
    "import matplotlib.pyplot as plt\n",
    "import seaborn as sns\n",
    "\n",
    "# Sprawdzenie brakujących wartości\n",
    "print(df.isnull().sum())\n",
    "\n",
    "# Rozkład zmiennej docelowej (diabetes)\n",
    "df['diabetes'].value_counts().plot(kind='bar', title='Rozkład zmiennej docelowej (diabetes)')\n",
    "plt.xlabel('Diabetes (0 - brak, 1 - obecność)')\n",
    "plt.ylabel('Liczba próbek')\n",
    "plt.show()\n",
    "\n",
    "# Analiza zmiennych kategorycznych\n",
    "for col in ['gender', 'smoking_history']:\n",
    "    df[col].value_counts().plot(kind='bar', title=f'Rozkład zmiennej: {col}')\n",
    "    plt.xlabel(col)\n",
    "    plt.ylabel('Liczba próbek')\n",
    "    plt.show()\n",
    "\n",
    "# Statystyki opisowe dla zmiennych numerycznych\n",
    "print(df.describe())\n",
    "\n",
    "# Macierz korelacji\n",
    "plt.figure(figsize=(10, 8))\n",
    "sns.heatmap(df.corr(), annot=True, cmap='coolwarm', fmt='.2f')\n",
    "plt.title('Macierz korelacji')\n",
    "plt.show()\n"
   ]
  }
 ],
 "metadata": {
  "kernelspec": {
   "display_name": "Python 3",
   "language": "python",
   "name": "python3"
  },
  "language_info": {
   "codemirror_mode": {
    "name": "ipython",
    "version": 3
   },
   "file_extension": ".py",
   "mimetype": "text/x-python",
   "name": "python",
   "nbconvert_exporter": "python",
   "pygments_lexer": "ipython3",
   "version": "3.13.1"
  }
 },
 "nbformat": 4,
 "nbformat_minor": 2
}
